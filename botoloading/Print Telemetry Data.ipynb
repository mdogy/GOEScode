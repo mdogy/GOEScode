{
 "cells": [
  {
   "cell_type": "code",
   "execution_count": 53,
   "metadata": {},
   "outputs": [],
   "source": [
    "from scipy.io import loadmat\n",
    "import numpy as np\n",
    "from matplotlib import pyplot as plt\n",
    "import pandas as pd\n",
    "from pandas.plotting import register_matplotlib_converters\n",
    "import datetime as dt\n",
    "import seaborn as sns\n",
    "register_matplotlib_converters()\n",
    "%matplotlib inline"
   ]
  },
  {
   "cell_type": "code",
   "execution_count": 44,
   "metadata": {},
   "outputs": [],
   "source": [
    "def matlab2datetime(matlab_datenum):\n",
    "    day = dt.datetime.fromordinal(int(matlab_datenum))\n",
    "    dayfrac = dt.timedelta(days=matlab_datenum%1) - dt.timedelta(days = 366)\n",
    "    return day + dayfrac\n",
    "\n",
    "def mat2pandas(matdata):\n",
    "    mattimes =  np.array(matdata['TIME'][0])\n",
    "    times = [matlab2datetime(time) for time in mattimes]\n",
    "    temps = matdata['LWIRTemp'][0]\n",
    "    df = pd.DataFrame({'Time':times, 'LWIRTemp':temps})\n",
    "    df.set_index('Time',inplace=True)\n",
    "    return df"
   ]
  },
  {
   "cell_type": "code",
   "execution_count": 46,
   "metadata": {},
   "outputs": [],
   "source": [
    "matfiles = ['INST_CAL_2019103.mat', 'INST_CAL_2019104.mat','INST_CAL_2019105.mat' ]\n",
    "pandas_files = [mat2pandas(loadmat(filename)) for filename in matfiles]"
   ]
  },
  {
   "cell_type": "code",
   "execution_count": 50,
   "metadata": {},
   "outputs": [
    {
     "data": {
      "text/html": [
       "<div>\n",
       "<style scoped>\n",
       "    .dataframe tbody tr th:only-of-type {\n",
       "        vertical-align: middle;\n",
       "    }\n",
       "\n",
       "    .dataframe tbody tr th {\n",
       "        vertical-align: top;\n",
       "    }\n",
       "\n",
       "    .dataframe thead th {\n",
       "        text-align: right;\n",
       "    }\n",
       "</style>\n",
       "<table border=\"1\" class=\"dataframe\">\n",
       "  <thead>\n",
       "    <tr style=\"text-align: right;\">\n",
       "      <th></th>\n",
       "      <th>LWIRTemp</th>\n",
       "    </tr>\n",
       "    <tr>\n",
       "      <th>Time</th>\n",
       "      <th></th>\n",
       "    </tr>\n",
       "  </thead>\n",
       "  <tbody>\n",
       "    <tr>\n",
       "      <td>2019-04-13 00:00:00.508999</td>\n",
       "      <td>80.879387</td>\n",
       "    </tr>\n",
       "    <tr>\n",
       "      <td>2019-04-13 00:00:01.509004</td>\n",
       "      <td>80.885658</td>\n",
       "    </tr>\n",
       "    <tr>\n",
       "      <td>2019-04-13 00:00:02.508999</td>\n",
       "      <td>80.806801</td>\n",
       "    </tr>\n",
       "    <tr>\n",
       "      <td>2019-04-13 00:00:03.509003</td>\n",
       "      <td>80.865166</td>\n",
       "    </tr>\n",
       "    <tr>\n",
       "      <td>2019-04-13 00:00:04.508998</td>\n",
       "      <td>80.855766</td>\n",
       "    </tr>\n",
       "  </tbody>\n",
       "</table>\n",
       "</div>"
      ],
      "text/plain": [
       "                             LWIRTemp\n",
       "Time                                 \n",
       "2019-04-13 00:00:00.508999  80.879387\n",
       "2019-04-13 00:00:01.509004  80.885658\n",
       "2019-04-13 00:00:02.508999  80.806801\n",
       "2019-04-13 00:00:03.509003  80.865166\n",
       "2019-04-13 00:00:04.508998  80.855766"
      ]
     },
     "execution_count": 50,
     "metadata": {},
     "output_type": "execute_result"
    }
   ],
   "source": [
    "pandas_files[0].head()"
   ]
  },
  {
   "cell_type": "code",
   "execution_count": 69,
   "metadata": {},
   "outputs": [
    {
     "data": {
      "text/plain": [
       "Text(0, 0.5, 'LWIRTemp in K')"
      ]
     },
     "execution_count": 69,
     "metadata": {},
     "output_type": "execute_result"
    },
    {
     "name": "stderr",
     "output_type": "stream",
     "text": [
      "C:\\ProgramData\\Anaconda3\\lib\\site-packages\\IPython\\core\\events.py:88: UserWarning: Creating legend with loc=\"best\" can be slow with large amounts of data.\n",
      "  func(*args, **kwargs)\n",
      "C:\\ProgramData\\Anaconda3\\lib\\site-packages\\IPython\\core\\pylabtools.py:128: UserWarning: Creating legend with loc=\"best\" can be slow with large amounts of data.\n",
      "  fig.canvas.print_figure(bytes_io, **kw)\n"
     ]
    },
    {
     "data": {
      "image/png": "[encoded data removed]",
      "text/plain": [
       "<Figure size 432x288 with 1 Axes>"
      ]
     },
     "metadata": {
      "needs_background": "light"
     },
     "output_type": "display_data"
    }
   ],
   "source": [
    "fig, ax = plt.subplots()\n",
    "for pandas_file in pandas_files:\n",
    "    sns.lineplot( data=pandas_file,ax=ax)\n",
    "plt.xticks(rotation=30)\n",
    "ax.set_ylabel('LWIRTemp in K')"
   ]
  },
  {
   "cell_type": "code",
   "execution_count": null,
   "metadata": {},
   "outputs": [],
   "source": []
  }
 ],
 "metadata": {
  "kernelspec": {
   "display_name": "Python 3",
   "language": "python",
   "name": "python3"
  },
  "language_info": {
   "codemirror_mode": {
    "name": "ipython",
    "version": 3
   },
   "file_extension": ".py",
   "mimetype": "text/x-python",
   "name": "python",
   "nbconvert_exporter": "python",
   "pygments_lexer": "ipython3",
   "version": "3.7.4"
  }
 },
 "nbformat": 4,
 "nbformat_minor": 2
}
