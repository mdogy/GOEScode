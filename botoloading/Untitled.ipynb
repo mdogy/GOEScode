{
 "cells": [
  {
   "cell_type": "code",
   "execution_count": 1,
   "metadata": {},
   "outputs": [
    {
     "name": "stdout",
     "output_type": "stream",
     "text": [
      "TestingBoto3DataGrab.ipynb XarrayBasedRemapping.ipynb \u001b[31mmakegoesfilelist.py\u001b[39;49m\u001b[0m        \u001b[31mrclone_fromfile.py\u001b[39;49m\u001b[0m\n",
      "Untitled.ipynb             \u001b[35mdata\u001b[39;49m\u001b[0m                       rclone.config              rclone_granules.txt\n",
      "\n"
     ]
    }
   ],
   "source": [
    "ls"
   ]
  },
  {
   "cell_type": "code",
   "execution_count": 2,
   "metadata": {},
   "outputs": [
    {
     "name": "stdout",
     "output_type": "stream",
     "text": [
      "\n"
     ]
    }
   ],
   "source": [
    "cd .."
   ]
  },
  {
   "cell_type": "code",
   "execution_count": 8,
   "metadata": {},
   "outputs": [
    {
     "name": "stdout",
     "output_type": "stream",
     "text": [
      "\n"
     ]
    }
   ],
   "source": [
    "cd -"
   ]
  },
  {
   "cell_type": "code",
   "execution_count": 9,
   "metadata": {},
   "outputs": [
    {
     "name": "stdout",
     "output_type": "stream",
     "text": [
      "OR_ABI-L1b-RadF-M6C07_G16_s20191030000200_e20191030009519_c20191030009557.nc\n",
      "OR_ABI-L1b-RadF-M6C07_G16_s20191030010200_e20191030019520_c20191030019552.nc\n",
      "OR_ABI-L1b-RadF-M6C07_G16_s20192001200409_e20192001210128_c20192001210168.nc\n",
      "OR_ABI-L1b-RadF-M6C07_G16_s20192001200409_e20192001210128_c20192001210168.png\n",
      "OR_ABI-L1b-RadF-M6C07_G17_s20191030000339_e20191030009417_c20191030009441.nc\n",
      "OR_ABI-L1b-RadF-M6C07_G17_s20191030010339_e20191030019416_c20191030019440.nc\n",
      "\n"
     ]
    }
   ],
   "source": [
    "ls data"
   ]
  },
  {
   "cell_type": "code",
   "execution_count": 10,
   "metadata": {},
   "outputs": [
    {
     "name": "stdout",
     "output_type": "stream",
     "text": [
      "     150     150   17100\n",
      "\n"
     ]
    }
   ],
   "source": [
    "cat rclone_granules.txt | wc "
   ]
  },
  {
   "cell_type": "code",
   "execution_count": 11,
   "metadata": {},
   "outputs": [
    {
     "name": "stdout",
     "output_type": "stream",
     "text": [
      "noaa-goes16/ABI-L1b-RadF/2019/240/06/OR_ABI-L1b-RadF-M6C07_G16_s20192400640201_e20192400649520_c20192400649584.nc\n",
      "noaa-goes16/ABI-L1b-RadF/2019/240/06/OR_ABI-L1b-RadF-M6C07_G16_s20192400650201_e20192400659520_c20192400659585.nc\n",
      "\n"
     ]
    }
   ],
   "source": [
    "cat rclone_granules.txt | tail -n 2"
   ]
  },
  {
   "cell_type": "code",
   "execution_count": null,
   "metadata": {},
   "outputs": [],
   "source": []
  }
 ],
 "metadata": {
  "kernelspec": {
   "display_name": "Xonsh",
   "language": "xonsh",
   "name": "xonsh"
  },
  "language_info": {
   "codemirror_mode": "shell",
   "file_extension": ".xsh",
   "mimetype": "text/x-sh",
   "name": "xonsh",
   "pygments_lexer": "xonsh",
   "version": "0.9.13"
  }
 },
 "nbformat": 4,
 "nbformat_minor": 2
}
