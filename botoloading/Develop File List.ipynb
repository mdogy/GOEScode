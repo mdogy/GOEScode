{
 "cells": [
  {
   "cell_type": "code",
   "execution_count": 1,
   "metadata": {},
   "outputs": [],
   "source": [
    "import re\n",
    "from pathlib import Path"
   ]
  },
  {
   "cell_type": "code",
   "execution_count": 9,
   "metadata": {},
   "outputs": [
    {
     "name": "stdout",
     "output_type": "stream",
     "text": [
      "['data/OR_ABI-L1b-RadF-M6C07_G16_s20191030000200_e20191030009519_c20191030009557.nc', 'data/OR_ABI-L1b-RadF-M6C07_G16_s20191030010200_e20191030019520_c20191030019552.nc', 'data/OR_ABI-L1b-RadF-M6C07_G16_s20192001200409_e20192001210128_c20192001210168.nc', 'data/OR_ABI-L1b-RadF-M6C07_G16_s20192001200409_e20192001210128_c20192001210168.png', 'data/OR_ABI-L1b-RadF-M6C07_G16_s20192400000200_e20192400009519_c20192400009577.nc', 'data/OR_ABI-L1b-RadF-M6C07_G16_s20192400010200_e20192400019519_c20192400019578.nc', 'data/OR_ABI-L1b-RadF-M6C07_G16_s20192400020200_e20192400029519_c20192400029586.nc', 'data/OR_ABI-L1b-RadF-M6C07_G16_s20192400030200_e20192400039519_c20192400039582.nc', 'data/OR_ABI-L1b-RadF-M6C07_G16_s20192400040200_e20192400049519_c20192400049583.nc', 'data/OR_ABI-L1b-RadF-M6C07_G16_s20192400050200_e20192400059519_c20192400059587.nc', 'data/OR_ABI-L1b-RadF-M6C07_G16_s20192400100200_e20192400109519_c20192400109580.nc', 'data/OR_ABI-L1b-RadF-M6C07_G16_s20192400110200_e20192400119520_c20192400119585.nc', 'data/OR_ABI-L1b-RadF-M6C07_G16_s20192400120200_e20192400129519_c20192400129577.nc', 'data/OR_ABI-L1b-RadF-M6C07_G16_s20192400130199_e20192400139519_c20192400139580.nc', 'data/OR_ABI-L1b-RadF-M6C07_G16_s20192400140199_e20192400149519_c20192400149582.nc', 'data/OR_ABI-L1b-RadF-M6C07_G16_s20192400150199_e20192400159519_c20192400159578.nc', 'data/OR_ABI-L1b-RadF-M6C07_G17_s20191030000339_e20191030009417_c20191030009441.nc', 'data/OR_ABI-L1b-RadF-M6C07_G17_s20191030010339_e20191030019416_c20191030019440.nc', 'data/OR_ABI-L2-ACMF-M6_G16_s20191022350200_e20191022359508_c20191030000163.nc', 'data/OR_ABI-L2-ACMF-M6_G16_s20191030000200_e20191030009508_c20191030010181.nc', 'data/OR_ABI-L2-ACMF-M6_G16_s20191030010200_e20191030019508_c20191030020198.nc', 'data/OR_ABI-L2-ACMF-M6_G16_s20191030020200_e20191030029508_c20191030030165.nc', 'data/OR_ABI-L2-ACMF-M6_G16_s20191030030200_e20191030039508_c20191030040198.nc', 'data/OR_ABI-L2-ACMF-M6_G17_s20191030000339_e20191030009405_c20191030010003.nc', 'data/OR_ABI-L2-ACMF-M6_G17_s20191030010339_e20191030019405_c20191030020000.nc', 'data/OR_ABI-L2-ACMF-M6_G17_s20191030020339_e20191030029406_c20191030029588.nc', 'data/OR_ABI-L2-ACMF-M6_G17_s20191030030339_e20191030039405_c20191030039593.nc', 'data/OR_ABI-L2-ACMF-M6_G17_s20191030040339_e20191030049406_c20191030049595.nc']\n"
     ]
    }
   ],
   "source": [
    "datapath = Path('./data')\n",
    "dirlist = list(str(item) for item in datapath.glob('*'))\n",
    "print(dirlist)"
   ]
  },
  {
   "cell_type": "code",
   "execution_count": 81,
   "metadata": {},
   "outputs": [
    {
     "data": {
      "text/plain": [
       "[('OR_ABI-L2-ACMF-M6_G16_s20191030000200_e20191030009508_c20191030010181.nc',\n",
       "  <re.Match object; span=(0, 72), match='OR_ABI-L2-ACMF-M6_G16_s20191030000200_e2019103000>),\n",
       " ('OR_ABI-L2-ACMF-M6_G16_s20191030010200_e20191030019508_c20191030020198.nc',\n",
       "  <re.Match object; span=(0, 72), match='OR_ABI-L2-ACMF-M6_G16_s20191030010200_e2019103001>),\n",
       " ('OR_ABI-L2-ACMF-M6_G16_s20191030020200_e20191030029508_c20191030030165.nc',\n",
       "  <re.Match object; span=(0, 72), match='OR_ABI-L2-ACMF-M6_G16_s20191030020200_e2019103002>),\n",
       " ('OR_ABI-L2-ACMF-M6_G16_s20191030030200_e20191030039508_c20191030040198.nc',\n",
       "  <re.Match object; span=(0, 72), match='OR_ABI-L2-ACMF-M6_G16_s20191030030200_e2019103003>)]"
      ]
     },
     "execution_count": 81,
     "metadata": {},
     "output_type": "execute_result"
    }
   ],
   "source": [
    "def convert2intIfPossible(value):\n",
    "        try:\n",
    "            if type(1) != type(value):\n",
    "                value = int(value)\n",
    "        except:\n",
    "            return value\n",
    "        return value\n",
    "#(P<product>OR_ABI-L1b-Rad[CFM])\n",
    "def getMatchesFromFiles(filenames,product=None, band=None, platform=None, year=None, dayofyear=None, hour=None, minute=None, second=None):\n",
    "    strPatt = (r'(?P<product>(OR_ABI-L1b-Rad[CFM]|OR_ABI-L2-ACM[CFM]))-M6(C?)(?P<band>\\d{0,2})_G(?P<platform>\\d{2})_s' + \n",
    "        r'(?P<year>\\d{4})(?P<dayofyear>\\d{3})(?P<hour>\\d{2})(?P<minute>\\d{2})(?P<seconds>\\d{2}).*\\.nc')\n",
    "    patt = re.compile(strPatt)\n",
    "    kwargs = {'product':product,\n",
    "              'band':band, \n",
    "              'platform':platform, \n",
    "              'year':year,\n",
    "              'dayofyear':dayofyear, \n",
    "              'hour':hour, 'minute':minute, 'second':second}\n",
    "    pairs = [(filename, re.match(patt,filename)) for filename in filenames if re.match(patt,filename)]\n",
    "    filtered = pairs\n",
    "    for key, value in kwargs.items():\n",
    "        value = convert2intIfPossible(value)\n",
    "        if value:\n",
    "            filtered = [(filename,match) for filename, match in filtered \n",
    "                        if convert2intIfPossible(match.group(key)) == value]\n",
    "    return filtered\n",
    "\n",
    "getMatchesFromFiles([item.split('/')[-1] for item in dirlist], \n",
    "                    band=None, \n",
    "                    platform=16, \n",
    "                    year=2019, \n",
    "                    dayofyear=103, \n",
    "                    product=\"OR_ABI-L2-ACMF\")"
   ]
  },
  {
   "cell_type": "code",
   "execution_count": 46,
   "metadata": {},
   "outputs": [
    {
     "data": {
      "text/plain": [
       "<re.Match object; span=(0, 76), match='OR_ABI-L1b-RadF-M6C07_G17_s20191030010339_e201910>"
      ]
     },
     "execution_count": 46,
     "metadata": {},
     "output_type": "execute_result"
    }
   ],
   "source": [
    "mo= foo[-1][1]\n",
    "mo"
   ]
  },
  {
   "cell_type": "code",
   "execution_count": 78,
   "metadata": {},
   "outputs": [
    {
     "data": {
      "text/plain": [
       "[('OR_ABI-L1b-RadF-M6C07_G16_s20191030000200_e20191030009519_c20191030009557.nc',\n",
       "  <re.Match object; span=(0, 76), match='OR_ABI-L1b-RadF-M6C07_G16_s20191030000200_e201910>),\n",
       " ('OR_ABI-L1b-RadF-M6C07_G16_s20191030010200_e20191030019520_c20191030019552.nc',\n",
       "  <re.Match object; span=(0, 76), match='OR_ABI-L1b-RadF-M6C07_G16_s20191030010200_e201910>),\n",
       " ('OR_ABI-L1b-RadF-M6C07_G16_s20192001200409_e20192001210128_c20192001210168.nc',\n",
       "  <re.Match object; span=(0, 76), match='OR_ABI-L1b-RadF-M6C07_G16_s20192001200409_e201920>),\n",
       " ('OR_ABI-L1b-RadF-M6C07_G16_s20192400000200_e20192400009519_c20192400009577.nc',\n",
       "  <re.Match object; span=(0, 76), match='OR_ABI-L1b-RadF-M6C07_G16_s20192400000200_e201924>),\n",
       " ('OR_ABI-L1b-RadF-M6C07_G16_s20192400010200_e20192400019519_c20192400019578.nc',\n",
       "  <re.Match object; span=(0, 76), match='OR_ABI-L1b-RadF-M6C07_G16_s20192400010200_e201924>),\n",
       " ('OR_ABI-L1b-RadF-M6C07_G16_s20192400020200_e20192400029519_c20192400029586.nc',\n",
       "  <re.Match object; span=(0, 76), match='OR_ABI-L1b-RadF-M6C07_G16_s20192400020200_e201924>),\n",
       " ('OR_ABI-L1b-RadF-M6C07_G16_s20192400030200_e20192400039519_c20192400039582.nc',\n",
       "  <re.Match object; span=(0, 76), match='OR_ABI-L1b-RadF-M6C07_G16_s20192400030200_e201924>),\n",
       " ('OR_ABI-L1b-RadF-M6C07_G16_s20192400040200_e20192400049519_c20192400049583.nc',\n",
       "  <re.Match object; span=(0, 76), match='OR_ABI-L1b-RadF-M6C07_G16_s20192400040200_e201924>),\n",
       " ('OR_ABI-L1b-RadF-M6C07_G16_s20192400050200_e20192400059519_c20192400059587.nc',\n",
       "  <re.Match object; span=(0, 76), match='OR_ABI-L1b-RadF-M6C07_G16_s20192400050200_e201924>),\n",
       " ('OR_ABI-L1b-RadF-M6C07_G16_s20192400100200_e20192400109519_c20192400109580.nc',\n",
       "  <re.Match object; span=(0, 76), match='OR_ABI-L1b-RadF-M6C07_G16_s20192400100200_e201924>),\n",
       " ('OR_ABI-L1b-RadF-M6C07_G16_s20192400110200_e20192400119520_c20192400119585.nc',\n",
       "  <re.Match object; span=(0, 76), match='OR_ABI-L1b-RadF-M6C07_G16_s20192400110200_e201924>),\n",
       " ('OR_ABI-L1b-RadF-M6C07_G16_s20192400120200_e20192400129519_c20192400129577.nc',\n",
       "  <re.Match object; span=(0, 76), match='OR_ABI-L1b-RadF-M6C07_G16_s20192400120200_e201924>),\n",
       " ('OR_ABI-L1b-RadF-M6C07_G16_s20192400130199_e20192400139519_c20192400139580.nc',\n",
       "  <re.Match object; span=(0, 76), match='OR_ABI-L1b-RadF-M6C07_G16_s20192400130199_e201924>),\n",
       " ('OR_ABI-L1b-RadF-M6C07_G16_s20192400140199_e20192400149519_c20192400149582.nc',\n",
       "  <re.Match object; span=(0, 76), match='OR_ABI-L1b-RadF-M6C07_G16_s20192400140199_e201924>),\n",
       " ('OR_ABI-L1b-RadF-M6C07_G16_s20192400150199_e20192400159519_c20192400159578.nc',\n",
       "  <re.Match object; span=(0, 76), match='OR_ABI-L1b-RadF-M6C07_G16_s20192400150199_e201924>),\n",
       " ('OR_ABI-L1b-RadF-M6C07_G17_s20191030000339_e20191030009417_c20191030009441.nc',\n",
       "  <re.Match object; span=(0, 76), match='OR_ABI-L1b-RadF-M6C07_G17_s20191030000339_e201910>),\n",
       " ('OR_ABI-L1b-RadF-M6C07_G17_s20191030010339_e20191030019416_c20191030019440.nc',\n",
       "  <re.Match object; span=(0, 76), match='OR_ABI-L1b-RadF-M6C07_G17_s20191030010339_e201910>),\n",
       " ('OR_ABI-L2-ACMF-M6_G16_s20191022350200_e20191022359508_c20191030000163.nc',\n",
       "  <re.Match object; span=(0, 72), match='OR_ABI-L2-ACMF-M6_G16_s20191022350200_e2019102235>),\n",
       " ('OR_ABI-L2-ACMF-M6_G16_s20191030000200_e20191030009508_c20191030010181.nc',\n",
       "  <re.Match object; span=(0, 72), match='OR_ABI-L2-ACMF-M6_G16_s20191030000200_e2019103000>),\n",
       " ('OR_ABI-L2-ACMF-M6_G16_s20191030010200_e20191030019508_c20191030020198.nc',\n",
       "  <re.Match object; span=(0, 72), match='OR_ABI-L2-ACMF-M6_G16_s20191030010200_e2019103001>),\n",
       " ('OR_ABI-L2-ACMF-M6_G16_s20191030020200_e20191030029508_c20191030030165.nc',\n",
       "  <re.Match object; span=(0, 72), match='OR_ABI-L2-ACMF-M6_G16_s20191030020200_e2019103002>),\n",
       " ('OR_ABI-L2-ACMF-M6_G16_s20191030030200_e20191030039508_c20191030040198.nc',\n",
       "  <re.Match object; span=(0, 72), match='OR_ABI-L2-ACMF-M6_G16_s20191030030200_e2019103003>),\n",
       " ('OR_ABI-L2-ACMF-M6_G17_s20191030000339_e20191030009405_c20191030010003.nc',\n",
       "  <re.Match object; span=(0, 72), match='OR_ABI-L2-ACMF-M6_G17_s20191030000339_e2019103000>),\n",
       " ('OR_ABI-L2-ACMF-M6_G17_s20191030010339_e20191030019405_c20191030020000.nc',\n",
       "  <re.Match object; span=(0, 72), match='OR_ABI-L2-ACMF-M6_G17_s20191030010339_e2019103001>),\n",
       " ('OR_ABI-L2-ACMF-M6_G17_s20191030020339_e20191030029406_c20191030029588.nc',\n",
       "  <re.Match object; span=(0, 72), match='OR_ABI-L2-ACMF-M6_G17_s20191030020339_e2019103002>),\n",
       " ('OR_ABI-L2-ACMF-M6_G17_s20191030030339_e20191030039405_c20191030039593.nc',\n",
       "  <re.Match object; span=(0, 72), match='OR_ABI-L2-ACMF-M6_G17_s20191030030339_e2019103003>),\n",
       " ('OR_ABI-L2-ACMF-M6_G17_s20191030040339_e20191030049406_c20191030049595.nc',\n",
       "  <re.Match object; span=(0, 72), match='OR_ABI-L2-ACMF-M6_G17_s20191030040339_e2019103004>)]"
      ]
     },
     "execution_count": 78,
     "metadata": {},
     "output_type": "execute_result"
    }
   ],
   "source": [
    "foo"
   ]
  },
  {
   "cell_type": "code",
   "execution_count": 47,
   "metadata": {},
   "outputs": [
    {
     "data": {
      "text/plain": [
       "('OR_ABI-L1b-RadF',\n",
       " 'OR_ABI-L1b-RadF',\n",
       " '07',\n",
       " '17',\n",
       " '2019',\n",
       " '103',\n",
       " '00',\n",
       " '10',\n",
       " '33')"
      ]
     },
     "execution_count": 47,
     "metadata": {},
     "output_type": "execute_result"
    }
   ],
   "source": [
    "mo.groups()"
   ]
  },
  {
   "cell_type": "code",
   "execution_count": 70,
   "metadata": {},
   "outputs": [
    {
     "data": {
      "text/plain": [
       "['OR_ABI-L1b-RadF-M6C07_G17_s20191030010339_e20191030019416_c20191030019440.nc',\n",
       " 'OR_ABI-L2-ACMF-M6_G16_s20191022350200_e20191022359508_c20191030000163.nc',\n",
       " 'OR_ABI-L2-ACMF-M6_G16_s20191030000200_e20191030009508_c20191030010181.nc',\n",
       " 'OR_ABI-L2-ACMF-M6_G16_s20191030010200_e20191030019508_c20191030020198.nc',\n",
       " 'OR_ABI-L2-ACMF-M6_G16_s20191030020200_e20191030029508_c20191030030165.nc']"
      ]
     },
     "execution_count": 70,
     "metadata": {},
     "output_type": "execute_result"
    }
   ],
   "source": [
    "bar = [item.split('/')[-1] for item in dirlist[17:22]]\n",
    "bar"
   ]
  },
  {
   "cell_type": "code",
   "execution_count": 76,
   "metadata": {},
   "outputs": [
    {
     "data": {
      "text/plain": [
       "<re.Match object; span=(0, 72), match='OR_ABI-L2-ACMF-M6_G16_s20191022350200_e2019102235>"
      ]
     },
     "execution_count": 76,
     "metadata": {},
     "output_type": "execute_result"
    }
   ],
   "source": [
    "re.match('(?P<product>(OR_ABI-L1b-Rad[CFM]|OR_ABI-L2-ACM[CFM]))-M6(C?)(?P<band>\\d{0,2}).*','OR_ABI-L2-ACMF-M6_G16_s20191022350200_e20191022359508_c20191030000163.nc')"
   ]
  },
  {
   "cell_type": "code",
   "execution_count": 83,
   "metadata": {},
   "outputs": [
    {
     "data": {
      "text/plain": [
       "'ACM'"
      ]
     },
     "execution_count": 83,
     "metadata": {},
     "output_type": "execute_result"
    }
   ],
   "source": [
    "'OR_ABI-L2-ACMF'[-4:-1]"
   ]
  },
  {
   "cell_type": "code",
   "execution_count": null,
   "metadata": {},
   "outputs": [],
   "source": []
  }
 ],
 "metadata": {
  "kernelspec": {
   "display_name": "Python 3",
   "language": "python",
   "name": "python3"
  },
  "language_info": {
   "codemirror_mode": {
    "name": "ipython",
    "version": 3
   },
   "file_extension": ".py",
   "mimetype": "text/x-python",
   "name": "python",
   "nbconvert_exporter": "python",
   "pygments_lexer": "ipython3",
   "version": "3.7.4"
  }
 },
 "nbformat": 4,
 "nbformat_minor": 2
}
