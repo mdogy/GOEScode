{
 "cells": [
  {
   "cell_type": "code",
   "execution_count": 24,
   "metadata": {},
   "outputs": [],
   "source": [
    "import os\n",
    "from pathlib import Path\n",
    "from os import path as op"
   ]
  },
  {
   "cell_type": "code",
   "execution_count": 36,
   "metadata": {},
   "outputs": [],
   "source": [
    "foo = Path('/mnt/g/GOESProj/data/roi_fall_data/OR_ABI-L1b-RadF-M6C08_G17_s2019103_xr.nc')"
   ]
  },
  {
   "cell_type": "code",
   "execution_count": 37,
   "metadata": {},
   "outputs": [
    {
     "data": {
      "text/plain": [
       "True"
      ]
     },
     "execution_count": 37,
     "metadata": {},
     "output_type": "execute_result"
    }
   ],
   "source": [
    "foo.exists()"
   ]
  },
  {
   "cell_type": "code",
   "execution_count": 38,
   "metadata": {},
   "outputs": [
    {
     "data": {
      "text/plain": [
       "True"
      ]
     },
     "execution_count": 38,
     "metadata": {},
     "output_type": "execute_result"
    }
   ],
   "source": [
    "op.exists(str(foo))"
   ]
  },
  {
   "cell_type": "code",
   "execution_count": 39,
   "metadata": {},
   "outputs": [
    {
     "name": "stdout",
     "output_type": "stream",
     "text": [
      "/mnt/g/GOESProj/data/roi_fall_data/OR_ABI-L1b-RadF-M6C08_G17_s2019103_xr.nc\r\n"
     ]
    }
   ],
   "source": [
    "!ls /mnt/g/GOESProj/data/roi_fall_data/OR_ABI-L1b-RadF-M6C08_G17_s2019103_xr.nc"
   ]
  },
  {
   "cell_type": "code",
   "execution_count": 29,
   "metadata": {},
   "outputs": [
    {
     "name": "stdout",
     "output_type": "stream",
     "text": [
      "OR_ABI-L1b-RadF-M6C08_G16_s2019103_xr.nc\n",
      "OR_ABI-L1b-RadF-M6C08_G16_s2019241_xr.nc\n",
      "OR_ABI-L1b-RadF-M6C08_G16_s2019242_xr.nc\n",
      "OR_ABI-L1b-RadF-M6C08_G17_s2019102_xr.nc\n",
      "OR_ABI-L1b-RadF-M6C08_G17_s2019240_xr.nc\n",
      "OR_ABI-L1b-RadF-M6C08_G17_s2019242_xr.nc\n",
      "OR_ABI-L1b-RadF-M6C08_G17_s2019243_xr.nc\n"
     ]
    },
    {
     "data": {
      "text/plain": [
       "'OR_ABI-L1b-RadF-M6C08_G17_s2019240_xr.nc'"
      ]
     },
     "execution_count": 29,
     "metadata": {},
     "output_type": "execute_result"
    }
   ],
   "source": [
    "listing = os.listdir('/mnt/g/GOESProj/data/roi_fall_data/')\n",
    "print('\\n'.join(listing))\n",
    "listing[4]"
   ]
  },
  {
   "cell_type": "code",
   "execution_count": 30,
   "metadata": {},
   "outputs": [
    {
     "data": {
      "text/plain": [
       "True"
      ]
     },
     "execution_count": 30,
     "metadata": {},
     "output_type": "execute_result"
    }
   ],
   "source": [
    "op.exists('/mnt/g/GOESProj/data/roi_fall_data/'+listing[4])"
   ]
  },
  {
   "cell_type": "code",
   "execution_count": 21,
   "metadata": {},
   "outputs": [
    {
     "name": "stdout",
     "output_type": "stream",
     "text": [
      "ls: cannot access '/mnt/g/GOESProj/data/roi_fall_data/OR_ABI-L1b-RadF-M6C08_G17_s2019103_xr.nc': No such file or directory\r\n",
      "total 3211392\r\n",
      "-rwxrwxrwx 1 glasslab glasslab 468858358 Jan  9 02:16 OR_ABI-L1b-RadF-M6C08_G16_s2019103_xr.nc\r\n",
      "-rwxrwxrwx 1 glasslab glasslab 468858328 Jan  9 01:15 OR_ABI-L1b-RadF-M6C08_G16_s2019241_xr.nc\r\n",
      "-rwxrwxrwx 1 glasslab glasslab 468858328 Jan  9 01:15 OR_ABI-L1b-RadF-M6C08_G16_s2019242_xr.nc\r\n",
      "-rwxrwxrwx 1 glasslab glasslab 462435910 Jan  9 02:15 OR_ABI-L1b-RadF-M6C08_G17_s2019102_xr.nc\r\n",
      "-????????? ? ?        ?                ?            ? OR_ABI-L1b-RadF-M6C08_G17_s2019103_xr.nc\r\n",
      "-rwxrwxrwx 1 glasslab glasslab  12860098 Jan 10 01:49 OR_ABI-L1b-RadF-M6C08_G17_s2019103_xr_6907.nc\r\n",
      "-rwxrwxrwx 1 glasslab glasslab 468858358 Jan  9 19:05 OR_ABI-L1b-RadF-M6C08_G17_s2019240_xr.nc\r\n",
      "-rwxrwxrwx 1 glasslab glasslab 468858328 Jan  8 20:49 OR_ABI-L1b-RadF-M6C08_G17_s2019242_xr.nc\r\n",
      "-rwxrwxrwx 1 glasslab glasslab 468858328 Jan  8 21:31 OR_ABI-L1b-RadF-M6C08_G17_s2019243_xr.nc\r\n"
     ]
    }
   ],
   "source": [
    "!ls -l /mnt/g/GOESProj/data/roi_fall_data/"
   ]
  },
  {
   "cell_type": "code",
   "execution_count": 40,
   "metadata": {},
   "outputs": [
    {
     "name": "stdout",
     "output_type": "stream",
     "text": [
      "total 3211392\n",
      "-rwxrwxrwx 1 glasslab glasslab 468858358 Jan  9 02:16 OR_ABI-L1b-RadF-M6C08_G16_s2019103_xr.nc\n",
      "-rwxrwxrwx 1 glasslab glasslab 468858328 Jan  9 01:15 OR_ABI-L1b-RadF-M6C08_G16_s2019241_xr.nc\n",
      "-rwxrwxrwx 1 glasslab glasslab 468858328 Jan  9 01:15 OR_ABI-L1b-RadF-M6C08_G16_s2019242_xr.nc\n",
      "-rwxrwxrwx 1 glasslab glasslab 462435910 Jan  9 02:15 OR_ABI-L1b-RadF-M6C08_G17_s2019102_xr.nc\n",
      "-rwxrwxrwx 1 glasslab glasslab  12860098 Jan 10 02:06 OR_ABI-L1b-RadF-M6C08_G17_s2019103_xr_4296.nc\n",
      "-rwxrwxrwx 1 glasslab glasslab 468858358 Jan  9 19:05 OR_ABI-L1b-RadF-M6C08_G17_s2019240_xr.nc\n",
      "-rwxrwxrwx 1 glasslab glasslab 468858328 Jan  8 20:49 OR_ABI-L1b-RadF-M6C08_G17_s2019242_xr.nc\n",
      "-rwxrwxrwx 1 glasslab glasslab 468858328 Jan  8 21:31 OR_ABI-L1b-RadF-M6C08_G17_s2019243_xr.nc\n"
     ]
    }
   ],
   "source": [
    "!ls -l /mnt/g/GOESProj/data/roi_fall_data/"
   ]
  },
  {
   "cell_type": "code",
   "execution_count": 22,
   "metadata": {},
   "outputs": [
    {
     "name": "stdout",
     "output_type": "stream",
     "text": [
      "rm: cannot remove '/mnt/g/GOESProj/data/roi_fall_data/OR_ABI-L1b-RadF-M6C08_G17_s2019103_xr.nc': No such file or directory\r\n"
     ]
    }
   ],
   "source": [
    "!rm /mnt/g/GOESProj/data/roi_fall_data/OR_ABI-L1b-RadF-M6C08_G17_s2019103_xr.nc"
   ]
  },
  {
   "cell_type": "code",
   "execution_count": 23,
   "metadata": {},
   "outputs": [
    {
     "name": "stdout",
     "output_type": "stream",
     "text": [
      "\u001b[6n"
     ]
    }
   ],
   "source": [
    "!wsl.exe del /f 'C:\\\\g\\\\GOESProj\\\\data\\\\roi_fall_data\\\\OR_ABI-L1b-RadF-M6C08_G17_s2019103_xr.nc'"
   ]
  },
  {
   "cell_type": "code",
   "execution_count": null,
   "metadata": {},
   "outputs": [],
   "source": []
  }
 ],
 "metadata": {
  "kernelspec": {
   "display_name": "Python 3",
   "language": "python",
   "name": "python3"
  },
  "language_info": {
   "codemirror_mode": {
    "name": "ipython",
    "version": 3
   },
   "file_extension": ".py",
   "mimetype": "text/x-python",
   "name": "python",
   "nbconvert_exporter": "python",
   "pygments_lexer": "ipython3",
   "version": "3.7.4"
  }
 },
 "nbformat": 4,
 "nbformat_minor": 2
}
