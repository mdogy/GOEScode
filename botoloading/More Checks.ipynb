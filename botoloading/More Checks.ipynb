{
 "cells": [
  {
   "cell_type": "code",
   "execution_count": null,
   "metadata": {},
   "outputs": [],
   "source": [
    "npysampledir = Path('/home/michael/dropbox/goesproject/sample_npy')\n",
    "nmpy_files = list(npysampledir.glob('*'))\n",
    "npydata0 = np.load(nmpy_files[0])\n",
    "npydata0.shape\n",
    "npydata0.mean()\n",
    "plt.imshow(npydata0)"
   ]
  }
 ],
 "metadata": {
  "kernelspec": {
   "display_name": "Python 3",
   "language": "python",
   "name": "python3"
  },
  "language_info": {
   "codemirror_mode": {
    "name": "ipython",
    "version": 3
   },
   "file_extension": ".py",
   "mimetype": "text/x-python",
   "name": "python",
   "nbconvert_exporter": "python",
   "pygments_lexer": "ipython3",
   "version": "3.8.1"
  }
 },
 "nbformat": 4,
 "nbformat_minor": 4
}
