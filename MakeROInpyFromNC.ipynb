{
 "cells": [
  {
   "cell_type": "code",
   "execution_count": 1,
   "metadata": {},
   "outputs": [],
   "source": [
    "import numpy as np\n",
    "import matplotlib.pyplot as plt\n",
    "import xarray as xr\n",
    "from pathlib import Path\n",
    "from cartopy import crs as ccrs\n",
    "from goesutils import goes_2_roi, radiance_to_BT, cartopy_pyresample_toggle_extent, trasform_cartopy_extent\n",
    "from goesutils import norm_im\n",
    "import metpy\n",
    "from scipy import stats"
   ]
  },
  {
   "cell_type": "code",
   "execution_count": 81,
   "metadata": {},
   "outputs": [],
   "source": [
    "day = 103\n",
    "SS = 'G17'\n",
    "band = 8\n",
    "npPath = Path('/tmp/npOut/all_npy2')\n",
    "ncPath = Path('/sharedData/scratch/')\n",
    "mc_rows = 1001\n",
    "mc_cols = 401\n",
    "#mc_rows = 500\n",
    "#mc_cols = 200"
   ]
  },
  {
   "cell_type": "code",
   "execution_count": 6,
   "metadata": {},
   "outputs": [],
   "source": [
    "#DATA_ACM_FILES = Path('../')\n",
    "\n",
    "#Projections\n",
    "pc = ccrs.PlateCarree()\n",
    "mc = ccrs.Mercator()\n",
    "\n",
    "#ROI\n",
    "extent_pc = [-109.59326, -102.40674, 8.94659, -8.94656]\n",
    "\n",
    "# Set up mc extents\n",
    "target_extent_mc_cartopy = trasform_cartopy_extent(extent_pc, pc, mc)\n",
    "target_extent_mc_pyresample = cartopy_pyresample_toggle_extent(target_extent_mc_cartopy)"
   ]
  },
  {
   "cell_type": "code",
   "execution_count": 79,
   "metadata": {},
   "outputs": [],
   "source": [
    "def make_roi_from_nc (inputpath,outputpath, \n",
    "                      sat,\n",
    "                      day,\n",
    "                      band,\n",
    "                      rad_prefix='OR_ABI-L1b-RadF-M6C',\n",
    "                      target_extent_mc_pyresample,\n",
    "                      overwrite=False):\n",
    "    if band:\n",
    "        filetemplate = f'{rad_prefix}{band:02}_G{sat:02}_s2019{day}*.nc'\n",
    "        datakey='Rad'\n",
    "    else:\n",
    "        filetemplate = f'{rad_prefix}_G{sat:02}_s2019{day}*.nc'\n",
    "        datakey='BCM'\n",
    "    allfiles = list(inputpath.glob(filetemplate))\n",
    "    for infilename in allfiles:\n",
    "        infilename_no_nc = str(infilename).split('.')[0]\n",
    "        outfile = Path(outputpath)/Path(infilename_no_nc).parts[-1]\n",
    "        if overwrite or (not Path(str(outfile)+'.npy').exists()):\n",
    "\n",
    "            dataset = xr.open_dataset(infilename)\n",
    "            roi_rads = goes_2_roi(dataset,\n",
    "                           target_extent_mc_pyresample,\n",
    "                           mc_rows,\n",
    "                           mc_cols,\n",
    "                           mc,\n",
    "                           datakey)\n",
    "            np.save(outfile,roi_rads)\n",
    "            dataset.close()\n",
    "            print(f'Writing file: {str(outfile)+\".npy\"}')\n",
    "        else:\n",
    "            print('File exists')\n"
   ]
  },
  {
   "cell_type": "code",
   "execution_count": 49,
   "metadata": {},
   "outputs": [
    {
     "name": "stdout",
     "output_type": "stream",
     "text": [
      "/sharedData/scratch/OR_ABI-L1b-RadF-M6C08_G17_s20191030000339_e20191030009405_c20191030009441\n"
     ]
    }
   ],
   "source": [
    "#make_roi_from_nc('17','103','08')\n",
    "allfiles = list(ncPath.glob(rad_prefix + str(band).zfill(2) + '_' + SS + '_s2019'+str(day).zfill(3)+'*.nc'))\n",
    "infilename = allfiles[0]\n",
    "outfile = Path(str(infilename).split('.')[0])\n",
    "print(outfile)"
   ]
  },
  {
   "cell_type": "code",
   "execution_count": 6,
   "metadata": {},
   "outputs": [
    {
     "data": {
      "text/plain": [
       "'OR_ABI-L1b-RadF-M6C08_G17_s2019103'"
      ]
     },
     "execution_count": 6,
     "metadata": {},
     "output_type": "execute_result"
    }
   ],
   "source": [
    "rad_prefix + str(band).zfill(2) + '_' + SS + '_s2019'+str(day).zfill(3)"
   ]
  },
  {
   "cell_type": "code",
   "execution_count": 29,
   "metadata": {},
   "outputs": [
    {
     "data": {
      "text/plain": [
       "'OR_ABI-L1b-RadF-M6C08_G17_s20191030000339_e20191030009405_c20191030009441'"
      ]
     },
     "execution_count": 29,
     "metadata": {},
     "output_type": "execute_result"
    }
   ],
   "source": []
  },
  {
   "cell_type": "code",
   "execution_count": 3,
   "metadata": {},
   "outputs": [
    {
     "name": "stdout",
     "output_type": "stream",
     "text": [
      "OR_ABI-L1b-RadF-M6C08_G17_s2019103*.nc\n"
     ]
    }
   ],
   "source": [
    "sat,day,band,rad_prefix=17,103,8,'OR_ABI-L1b-RadF-M6C'\n",
    "filetemplate = f'{rad_prefix}{band:02}_G{sat:02}_s2019{day}*.nc'\n",
    "print(filetemplate)"
   ]
  },
  {
   "cell_type": "code",
   "execution_count": 77,
   "metadata": {},
   "outputs": [
    {
     "name": "stdout",
     "output_type": "stream",
     "text": [
      "/sharedData/scratch\n"
     ]
    },
    {
     "ename": "IndexError",
     "evalue": "list index out of range",
     "output_type": "error",
     "traceback": [
      "\u001b[0;31m---------------------------------------------------------------------------\u001b[0m",
      "\u001b[0;31mIndexError\u001b[0m                                Traceback (most recent call last)",
      "\u001b[0;32m<timed eval>\u001b[0m in \u001b[0;36m<module>\u001b[0;34m\u001b[0m\n",
      "\u001b[0;32m<ipython-input-74-64558b5acfe2>\u001b[0m in \u001b[0;36mmake_roi_from_nc\u001b[0;34m(inputpath, outputpath, sat, day, band, rad_prefix, overwrite)\u001b[0m\n\u001b[1;32m     13\u001b[0m     \u001b[0mallfiles\u001b[0m \u001b[0;34m=\u001b[0m \u001b[0mlist\u001b[0m\u001b[0;34m(\u001b[0m\u001b[0minputpath\u001b[0m\u001b[0;34m.\u001b[0m\u001b[0mglob\u001b[0m\u001b[0;34m(\u001b[0m\u001b[0mfiletemplate\u001b[0m\u001b[0;34m)\u001b[0m\u001b[0;34m)\u001b[0m\u001b[0;34m\u001b[0m\u001b[0;34m\u001b[0m\u001b[0m\n\u001b[1;32m     14\u001b[0m     \u001b[0mprint\u001b[0m\u001b[0;34m(\u001b[0m\u001b[0minputpath\u001b[0m\u001b[0;34m)\u001b[0m\u001b[0;34m\u001b[0m\u001b[0;34m\u001b[0m\u001b[0m\n\u001b[0;32m---> 15\u001b[0;31m     \u001b[0minfilename\u001b[0m \u001b[0;34m=\u001b[0m \u001b[0mallfiles\u001b[0m\u001b[0;34m[\u001b[0m\u001b[0;36m0\u001b[0m\u001b[0;34m]\u001b[0m\u001b[0;34m\u001b[0m\u001b[0;34m\u001b[0m\u001b[0m\n\u001b[0m\u001b[1;32m     16\u001b[0m     \u001b[0minfilename_no_nc\u001b[0m \u001b[0;34m=\u001b[0m \u001b[0mstr\u001b[0m\u001b[0;34m(\u001b[0m\u001b[0minfilename\u001b[0m\u001b[0;34m)\u001b[0m\u001b[0;34m.\u001b[0m\u001b[0msplit\u001b[0m\u001b[0;34m(\u001b[0m\u001b[0;34m'.'\u001b[0m\u001b[0;34m)\u001b[0m\u001b[0;34m[\u001b[0m\u001b[0;36m0\u001b[0m\u001b[0;34m]\u001b[0m\u001b[0;34m\u001b[0m\u001b[0;34m\u001b[0m\u001b[0m\n\u001b[1;32m     17\u001b[0m     \u001b[0moutfile\u001b[0m \u001b[0;34m=\u001b[0m \u001b[0mPath\u001b[0m\u001b[0;34m(\u001b[0m\u001b[0moutputpath\u001b[0m\u001b[0;34m)\u001b[0m\u001b[0;34m/\u001b[0m\u001b[0mPath\u001b[0m\u001b[0;34m(\u001b[0m\u001b[0minfilename_no_nc\u001b[0m\u001b[0;34m)\u001b[0m\u001b[0;34m.\u001b[0m\u001b[0mparts\u001b[0m\u001b[0;34m[\u001b[0m\u001b[0;34m-\u001b[0m\u001b[0;36m1\u001b[0m\u001b[0;34m]\u001b[0m\u001b[0;34m\u001b[0m\u001b[0;34m\u001b[0m\u001b[0m\n",
      "\u001b[0;31mIndexError\u001b[0m: list index out of range"
     ]
    }
   ],
   "source": [
    "%%time\n",
    "make_roi_from_nc(ncPath,npPath,17,103,'',rad_prefix='OR_ABI-L1b-RadF-M6C')"
   ]
  },
  {
   "cell_type": "code",
   "execution_count": 32,
   "metadata": {},
   "outputs": [
    {
     "data": {
      "text/plain": [
       "PosixPath('/tmp/npOut/all_npy2/OR_ABI-L1b-RadF-M6C08_G17_s20191030000339_e20191030009405_c20191030009441')"
      ]
     },
     "execution_count": 32,
     "metadata": {},
     "output_type": "execute_result"
    }
   ],
   "source": [
    "Path('/tmp/npOut/all_npy2')/Path('/sharedData/scratch/OR_ABI-L1b-RadF-M6C08_G17_s20191030000339_e20191030009405_c20191030009441').parts[-1]"
   ]
  },
  {
   "cell_type": "code",
   "execution_count": 80,
   "metadata": {},
   "outputs": [
    {
     "name": "stdout",
     "output_type": "stream",
     "text": [
      "File exists\n",
      "Writing file: /tmp/npOut/all_npy2/OR_ABI-L2-ACMF-M6_G17_s20191030010339_e20191030019405_c20191030020000.npy\n",
      "Writing file: /tmp/npOut/all_npy2/OR_ABI-L2-ACMF-M6_G17_s20191030020339_e20191030029406_c20191030029588.npy\n",
      "Writing file: /tmp/npOut/all_npy2/OR_ABI-L2-ACMF-M6_G17_s20191030030339_e20191030039405_c20191030039593.npy\n",
      "Writing file: /tmp/npOut/all_npy2/OR_ABI-L2-ACMF-M6_G17_s20191030040339_e20191030049406_c20191030049595.npy\n",
      "Writing file: /tmp/npOut/all_npy2/OR_ABI-L2-ACMF-M6_G17_s20191030050339_e20191030059406_c20191030059591.npy\n",
      "Writing file: /tmp/npOut/all_npy2/OR_ABI-L2-ACMF-M6_G17_s20191030100339_e20191030109406_c20191030109595.npy\n"
     ]
    },
    {
     "ename": "KeyboardInterrupt",
     "evalue": "",
     "output_type": "error",
     "traceback": [
      "\u001b[0;31m---------------------------------------------------------------------------\u001b[0m",
      "\u001b[0;31mKeyboardInterrupt\u001b[0m                         Traceback (most recent call last)",
      "\u001b[0;32m<timed eval>\u001b[0m in \u001b[0;36m<module>\u001b[0;34m\u001b[0m\n",
      "\u001b[0;32m<ipython-input-79-534d41149b95>\u001b[0m in \u001b[0;36mmake_roi_from_nc\u001b[0;34m(inputpath, outputpath, sat, day, band, rad_prefix, overwrite)\u001b[0m\n\u001b[1;32m     23\u001b[0m                            \u001b[0mmc_cols\u001b[0m\u001b[0;34m,\u001b[0m\u001b[0;34m\u001b[0m\u001b[0;34m\u001b[0m\u001b[0m\n\u001b[1;32m     24\u001b[0m                            \u001b[0mmc\u001b[0m\u001b[0;34m,\u001b[0m\u001b[0;34m\u001b[0m\u001b[0;34m\u001b[0m\u001b[0m\n\u001b[0;32m---> 25\u001b[0;31m                            datakey)\n\u001b[0m\u001b[1;32m     26\u001b[0m             \u001b[0mnp\u001b[0m\u001b[0;34m.\u001b[0m\u001b[0msave\u001b[0m\u001b[0;34m(\u001b[0m\u001b[0moutfile\u001b[0m\u001b[0;34m,\u001b[0m\u001b[0mroi_rads\u001b[0m\u001b[0;34m)\u001b[0m\u001b[0;34m\u001b[0m\u001b[0;34m\u001b[0m\u001b[0m\n\u001b[1;32m     27\u001b[0m             \u001b[0mdataset\u001b[0m\u001b[0;34m.\u001b[0m\u001b[0mclose\u001b[0m\u001b[0;34m(\u001b[0m\u001b[0;34m)\u001b[0m\u001b[0;34m\u001b[0m\u001b[0;34m\u001b[0m\u001b[0m\n",
      "\u001b[0;32m~/goescalval/GOEScode/goesutils.py\u001b[0m in \u001b[0;36mgoes_2_roi\u001b[0;34m(loaded_goes, target_extent, target_rows, target_cols, cartopy_target_proj, data_key, radius_of_influence)\u001b[0m\n\u001b[1;32m     59\u001b[0m \u001b[0;34m\u001b[0m\u001b[0m\n\u001b[1;32m     60\u001b[0m     \u001b[0;31m# Here we are using pyresample for the remapping\u001b[0m\u001b[0;34m\u001b[0m\u001b[0;34m\u001b[0m\u001b[0;34m\u001b[0m\u001b[0m\n\u001b[0;32m---> 61\u001b[0;31m     \u001b[0marea_proj_con_nn\u001b[0m \u001b[0;34m=\u001b[0m \u001b[0mgeos_con_nn\u001b[0m\u001b[0;34m.\u001b[0m\u001b[0mresample\u001b[0m\u001b[0;34m(\u001b[0m\u001b[0marea_target_def\u001b[0m\u001b[0;34m)\u001b[0m\u001b[0;34m\u001b[0m\u001b[0;34m\u001b[0m\u001b[0m\n\u001b[0m\u001b[1;32m     62\u001b[0m     \u001b[0;32mreturn\u001b[0m \u001b[0marea_proj_con_nn\u001b[0m\u001b[0;34m.\u001b[0m\u001b[0mimage_data\u001b[0m\u001b[0;34m\u001b[0m\u001b[0;34m\u001b[0m\u001b[0m\n\u001b[1;32m     63\u001b[0m \u001b[0;34m\u001b[0m\u001b[0m\n",
      "\u001b[0;32m~/.conda/envs/goesproj/lib/python3.7/site-packages/pyresample/image.py\u001b[0m in \u001b[0;36mresample\u001b[0;34m(self, target_geo_def)\u001b[0m\n\u001b[1;32m    292\u001b[0m                                      \u001b[0mnprocs\u001b[0m\u001b[0;34m=\u001b[0m\u001b[0mself\u001b[0m\u001b[0;34m.\u001b[0m\u001b[0mnprocs\u001b[0m\u001b[0;34m,\u001b[0m\u001b[0;34m\u001b[0m\u001b[0;34m\u001b[0m\u001b[0m\n\u001b[1;32m    293\u001b[0m                                      \u001b[0mreduce_data\u001b[0m\u001b[0;34m=\u001b[0m\u001b[0mself\u001b[0m\u001b[0;34m.\u001b[0m\u001b[0mreduce_data\u001b[0m\u001b[0;34m,\u001b[0m\u001b[0;34m\u001b[0m\u001b[0;34m\u001b[0m\u001b[0m\n\u001b[0;32m--> 294\u001b[0;31m                                      segments=self.segments)\n\u001b[0m\u001b[1;32m    295\u001b[0m         return ImageContainerNearest(resampled_image, target_geo_def,\n\u001b[1;32m    296\u001b[0m                                      \u001b[0mself\u001b[0m\u001b[0;34m.\u001b[0m\u001b[0mradius_of_influence\u001b[0m\u001b[0;34m,\u001b[0m\u001b[0;34m\u001b[0m\u001b[0;34m\u001b[0m\u001b[0m\n",
      "\u001b[0;32m~/.conda/envs/goesproj/lib/python3.7/site-packages/pyresample/kd_tree.py\u001b[0m in \u001b[0;36mresample_nearest\u001b[0;34m(source_geo_def, data, target_geo_def, radius_of_influence, epsilon, fill_value, reduce_data, nprocs, segments)\u001b[0m\n\u001b[1;32m    102\u001b[0m                      \u001b[0mradius_of_influence\u001b[0m\u001b[0;34m,\u001b[0m \u001b[0mneighbours\u001b[0m\u001b[0;34m=\u001b[0m\u001b[0;36m1\u001b[0m\u001b[0;34m,\u001b[0m\u001b[0;34m\u001b[0m\u001b[0;34m\u001b[0m\u001b[0m\n\u001b[1;32m    103\u001b[0m                      \u001b[0mepsilon\u001b[0m\u001b[0;34m=\u001b[0m\u001b[0mepsilon\u001b[0m\u001b[0;34m,\u001b[0m \u001b[0mfill_value\u001b[0m\u001b[0;34m=\u001b[0m\u001b[0mfill_value\u001b[0m\u001b[0;34m,\u001b[0m\u001b[0;34m\u001b[0m\u001b[0;34m\u001b[0m\u001b[0m\n\u001b[0;32m--> 104\u001b[0;31m                      reduce_data=reduce_data, nprocs=nprocs, segments=segments)\n\u001b[0m\u001b[1;32m    105\u001b[0m \u001b[0;34m\u001b[0m\u001b[0m\n\u001b[1;32m    106\u001b[0m \u001b[0;34m\u001b[0m\u001b[0m\n",
      "\u001b[0;32m~/.conda/envs/goesproj/lib/python3.7/site-packages/pyresample/kd_tree.py\u001b[0m in \u001b[0;36m_resample\u001b[0;34m(source_geo_def, data, target_geo_def, resample_type, radius_of_influence, neighbours, epsilon, weight_funcs, fill_value, reduce_data, nprocs, segments, with_uncert)\u001b[0m\n\u001b[1;32m    263\u001b[0m                            \u001b[0mreduce_data\u001b[0m\u001b[0;34m=\u001b[0m\u001b[0mreduce_data\u001b[0m\u001b[0;34m,\u001b[0m\u001b[0;34m\u001b[0m\u001b[0;34m\u001b[0m\u001b[0m\n\u001b[1;32m    264\u001b[0m                            \u001b[0mnprocs\u001b[0m\u001b[0;34m=\u001b[0m\u001b[0mnprocs\u001b[0m\u001b[0;34m,\u001b[0m\u001b[0;34m\u001b[0m\u001b[0;34m\u001b[0m\u001b[0m\n\u001b[0;32m--> 265\u001b[0;31m                            segments=segments)\n\u001b[0m\u001b[1;32m    266\u001b[0m \u001b[0;34m\u001b[0m\u001b[0m\n\u001b[1;32m    267\u001b[0m     return get_sample_from_neighbour_info(resample_type,\n",
      "\u001b[0;32m~/.conda/envs/goesproj/lib/python3.7/site-packages/pyresample/kd_tree.py\u001b[0m in \u001b[0;36mget_neighbour_info\u001b[0;34m(source_geo_def, target_geo_def, radius_of_influence, neighbours, epsilon, reduce_data, nprocs, segments)\u001b[0m\n\u001b[1;32m    325\u001b[0m                                                                          \u001b[0mreduce_data\u001b[0m\u001b[0;34m,\u001b[0m\u001b[0;34m\u001b[0m\u001b[0;34m\u001b[0m\u001b[0m\n\u001b[1;32m    326\u001b[0m                                                                          \u001b[0mradius_of_influence\u001b[0m\u001b[0;34m,\u001b[0m\u001b[0;34m\u001b[0m\u001b[0;34m\u001b[0m\u001b[0m\n\u001b[0;32m--> 327\u001b[0;31m                                                                          nprocs=nprocs)\n\u001b[0m\u001b[1;32m    328\u001b[0m \u001b[0;34m\u001b[0m\u001b[0m\n\u001b[1;32m    329\u001b[0m     \u001b[0;31m# Create kd-tree\u001b[0m\u001b[0;34m\u001b[0m\u001b[0;34m\u001b[0m\u001b[0;34m\u001b[0m\u001b[0m\n",
      "\u001b[0;32m~/.conda/envs/goesproj/lib/python3.7/site-packages/pyresample/kd_tree.py\u001b[0m in \u001b[0;36m_get_valid_input_index\u001b[0;34m(source_geo_def, target_geo_def, reduce_data, radius_of_influence, nprocs)\u001b[0m\n\u001b[1;32m    397\u001b[0m     \u001b[0;34m\"\"\"Find indices of reduced inputput data\"\"\"\u001b[0m\u001b[0;34m\u001b[0m\u001b[0;34m\u001b[0m\u001b[0m\n\u001b[1;32m    398\u001b[0m \u001b[0;34m\u001b[0m\u001b[0m\n\u001b[0;32m--> 399\u001b[0;31m     \u001b[0msource_lons\u001b[0m\u001b[0;34m,\u001b[0m \u001b[0msource_lats\u001b[0m \u001b[0;34m=\u001b[0m \u001b[0msource_geo_def\u001b[0m\u001b[0;34m.\u001b[0m\u001b[0mget_lonlats\u001b[0m\u001b[0;34m(\u001b[0m\u001b[0mnprocs\u001b[0m\u001b[0;34m=\u001b[0m\u001b[0mnprocs\u001b[0m\u001b[0;34m)\u001b[0m\u001b[0;34m\u001b[0m\u001b[0;34m\u001b[0m\u001b[0m\n\u001b[0m\u001b[1;32m    400\u001b[0m     \u001b[0msource_lons\u001b[0m \u001b[0;34m=\u001b[0m \u001b[0mnp\u001b[0m\u001b[0;34m.\u001b[0m\u001b[0masanyarray\u001b[0m\u001b[0;34m(\u001b[0m\u001b[0msource_lons\u001b[0m\u001b[0;34m)\u001b[0m\u001b[0;34m.\u001b[0m\u001b[0mravel\u001b[0m\u001b[0;34m(\u001b[0m\u001b[0;34m)\u001b[0m\u001b[0;34m\u001b[0m\u001b[0;34m\u001b[0m\u001b[0m\n\u001b[1;32m    401\u001b[0m     \u001b[0msource_lats\u001b[0m \u001b[0;34m=\u001b[0m \u001b[0mnp\u001b[0m\u001b[0;34m.\u001b[0m\u001b[0masanyarray\u001b[0m\u001b[0;34m(\u001b[0m\u001b[0msource_lats\u001b[0m\u001b[0;34m)\u001b[0m\u001b[0;34m.\u001b[0m\u001b[0mravel\u001b[0m\u001b[0;34m(\u001b[0m\u001b[0;34m)\u001b[0m\u001b[0;34m\u001b[0m\u001b[0;34m\u001b[0m\u001b[0m\n",
      "\u001b[0;32m~/.conda/envs/goesproj/lib/python3.7/site-packages/pyresample/geometry.py\u001b[0m in \u001b[0;36mget_lonlats\u001b[0;34m(self, nprocs, data_slice, cache, dtype, chunks)\u001b[0m\n\u001b[1;32m   1669\u001b[0m \u001b[0;34m\u001b[0m\u001b[0m\n\u001b[1;32m   1670\u001b[0m         \u001b[0;31m# Get corresponding longitude and latitude values\u001b[0m\u001b[0;34m\u001b[0m\u001b[0;34m\u001b[0m\u001b[0;34m\u001b[0m\u001b[0m\n\u001b[0;32m-> 1671\u001b[0;31m         \u001b[0mlons\u001b[0m\u001b[0;34m,\u001b[0m \u001b[0mlats\u001b[0m \u001b[0;34m=\u001b[0m \u001b[0mtarget_proj\u001b[0m\u001b[0;34m(\u001b[0m\u001b[0mtarget_x\u001b[0m\u001b[0;34m,\u001b[0m \u001b[0mtarget_y\u001b[0m\u001b[0;34m,\u001b[0m \u001b[0minverse\u001b[0m\u001b[0;34m=\u001b[0m\u001b[0;32mTrue\u001b[0m\u001b[0;34m,\u001b[0m \u001b[0mnprocs\u001b[0m\u001b[0;34m=\u001b[0m\u001b[0mnprocs\u001b[0m\u001b[0;34m)\u001b[0m\u001b[0;34m\u001b[0m\u001b[0;34m\u001b[0m\u001b[0m\n\u001b[0m\u001b[1;32m   1672\u001b[0m         \u001b[0mlons\u001b[0m \u001b[0;34m=\u001b[0m \u001b[0mnp\u001b[0m\u001b[0;34m.\u001b[0m\u001b[0masanyarray\u001b[0m\u001b[0;34m(\u001b[0m\u001b[0mlons\u001b[0m\u001b[0;34m,\u001b[0m \u001b[0mdtype\u001b[0m\u001b[0;34m=\u001b[0m\u001b[0mdtype\u001b[0m\u001b[0;34m)\u001b[0m\u001b[0;34m\u001b[0m\u001b[0;34m\u001b[0m\u001b[0m\n\u001b[1;32m   1673\u001b[0m         \u001b[0mlats\u001b[0m \u001b[0;34m=\u001b[0m \u001b[0mnp\u001b[0m\u001b[0;34m.\u001b[0m\u001b[0masanyarray\u001b[0m\u001b[0;34m(\u001b[0m\u001b[0mlats\u001b[0m\u001b[0;34m,\u001b[0m \u001b[0mdtype\u001b[0m\u001b[0;34m=\u001b[0m\u001b[0mdtype\u001b[0m\u001b[0;34m)\u001b[0m\u001b[0;34m\u001b[0m\u001b[0;34m\u001b[0m\u001b[0m\n",
      "\u001b[0;32m~/.conda/envs/goesproj/lib/python3.7/site-packages/pyresample/_spatial_mp.py\u001b[0m in \u001b[0;36m__call__\u001b[0;34m(self, data1, data2, inverse, radians, errcheck, nprocs)\u001b[0m\n\u001b[1;32m    155\u001b[0m             \u001b[0;32mreturn\u001b[0m \u001b[0mdata1\u001b[0m\u001b[0;34m,\u001b[0m \u001b[0mdata2\u001b[0m\u001b[0;34m\u001b[0m\u001b[0;34m\u001b[0m\u001b[0m\n\u001b[1;32m    156\u001b[0m         return super(Proj, self).__call__(data1, data2, inverse=inverse,\n\u001b[0;32m--> 157\u001b[0;31m                                           radians=radians, errcheck=errcheck)\n\u001b[0m\u001b[1;32m    158\u001b[0m \u001b[0;34m\u001b[0m\u001b[0m\n\u001b[1;32m    159\u001b[0m \u001b[0;34m\u001b[0m\u001b[0m\n",
      "\u001b[0;32m~/.conda/envs/goesproj/lib/python3.7/site-packages/pyproj/__init__.py\u001b[0m in \u001b[0;36m__call__\u001b[0;34m(self, *args, **kw)\u001b[0m\n\u001b[1;32m    399\u001b[0m         \u001b[0;31m# call proj4 functions. inx and iny modified in place.\u001b[0m\u001b[0;34m\u001b[0m\u001b[0;34m\u001b[0m\u001b[0;34m\u001b[0m\u001b[0m\n\u001b[1;32m    400\u001b[0m         \u001b[0;32mif\u001b[0m \u001b[0minverse\u001b[0m\u001b[0;34m:\u001b[0m\u001b[0;34m\u001b[0m\u001b[0;34m\u001b[0m\u001b[0m\n\u001b[0;32m--> 401\u001b[0;31m             \u001b[0m_proj\u001b[0m\u001b[0;34m.\u001b[0m\u001b[0mProj\u001b[0m\u001b[0;34m.\u001b[0m\u001b[0m_inv\u001b[0m\u001b[0;34m(\u001b[0m\u001b[0mself\u001b[0m\u001b[0;34m,\u001b[0m \u001b[0minx\u001b[0m\u001b[0;34m,\u001b[0m \u001b[0miny\u001b[0m\u001b[0;34m,\u001b[0m \u001b[0mradians\u001b[0m\u001b[0;34m=\u001b[0m\u001b[0mradians\u001b[0m\u001b[0;34m,\u001b[0m \u001b[0merrcheck\u001b[0m\u001b[0;34m=\u001b[0m\u001b[0merrcheck\u001b[0m\u001b[0;34m)\u001b[0m\u001b[0;34m\u001b[0m\u001b[0;34m\u001b[0m\u001b[0m\n\u001b[0m\u001b[1;32m    402\u001b[0m         \u001b[0;32melse\u001b[0m\u001b[0;34m:\u001b[0m\u001b[0;34m\u001b[0m\u001b[0;34m\u001b[0m\u001b[0m\n\u001b[1;32m    403\u001b[0m             \u001b[0m_proj\u001b[0m\u001b[0;34m.\u001b[0m\u001b[0mProj\u001b[0m\u001b[0;34m.\u001b[0m\u001b[0m_fwd\u001b[0m\u001b[0;34m(\u001b[0m\u001b[0mself\u001b[0m\u001b[0;34m,\u001b[0m \u001b[0minx\u001b[0m\u001b[0;34m,\u001b[0m \u001b[0miny\u001b[0m\u001b[0;34m,\u001b[0m \u001b[0mradians\u001b[0m\u001b[0;34m=\u001b[0m\u001b[0mradians\u001b[0m\u001b[0;34m,\u001b[0m \u001b[0merrcheck\u001b[0m\u001b[0;34m=\u001b[0m\u001b[0merrcheck\u001b[0m\u001b[0;34m)\u001b[0m\u001b[0;34m\u001b[0m\u001b[0;34m\u001b[0m\u001b[0m\n",
      "\u001b[0;31mKeyboardInterrupt\u001b[0m: "
     ]
    }
   ],
   "source": [
    "%%time\n",
    "make_roi_from_nc(Path(ncPath)/Path('ACMFiles'),npPath,17,103,'',rad_prefix='OR_ABI-L2-ACMF-M6')"
   ]
  },
  {
   "cell_type": "code",
   "execution_count": 71,
   "metadata": {},
   "outputs": [
    {
     "data": {
      "text/plain": [
       "PosixPath('/sharedData/scratch/ACMFiles')"
      ]
     },
     "execution_count": 71,
     "metadata": {},
     "output_type": "execute_result"
    }
   ],
   "source": [
    "Path(ncPath)/Path('ACMFiles')"
   ]
  },
  {
   "cell_type": "code",
   "execution_count": null,
   "metadata": {},
   "outputs": [],
   "source": []
  }
 ],
 "metadata": {
  "kernelspec": {
   "display_name": "Python 3",
   "language": "python",
   "name": "python3"
  },
  "language_info": {
   "codemirror_mode": {
    "name": "ipython",
    "version": 3
   },
   "file_extension": ".py",
   "mimetype": "text/x-python",
   "name": "python",
   "nbconvert_exporter": "python",
   "pygments_lexer": "ipython3",
   "version": "3.7.3"
  }
 },
 "nbformat": 4,
 "nbformat_minor": 2
}
